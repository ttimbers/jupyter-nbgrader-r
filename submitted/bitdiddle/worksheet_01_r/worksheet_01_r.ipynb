{
 "cells": [
  {
   "cell_type": "markdown",
   "metadata": {
    "deletable": false,
    "editable": false,
    "nbgrader": {
     "cell_type": "markdown",
     "checksum": "20d3892f2c9ba9b28e9ad5a3d1f44e95",
     "grade": false,
     "grade_id": "cell-e4c99f1eed38cf2d",
     "locked": true,
     "schema_version": 3,
     "solution": false,
     "task": false
    }
   },
   "source": [
    "# Worksheet 1: Introduction to Data Science\n",
    "\n",
    "Welcome to DSCI 100: Introduction to Data Science!  \n",
    "\n",
    "Each week you will complete a lecture assignment like this one. For this worksheet, there are two parts:\n",
    "\n",
    "1. [Introduction to using Jupyter Notebooks](#1.-Introduction-to-Jupyter-Notebooks)\n",
    "2. [Introduction to analyzing data in R](#2.-Analyze-some-data)"
   ]
  },
  {
   "cell_type": "markdown",
   "metadata": {
    "deletable": false,
    "editable": false,
    "nbgrader": {
     "cell_type": "markdown",
     "checksum": "af870d23798eab19ea31f3853c534665",
     "grade": false,
     "grade_id": "cell-66a841cc155d010a",
     "locked": true,
     "schema_version": 3,
     "solution": false,
     "task": false
    }
   },
   "source": [
    "## 1. Introduction to Jupyter Notebooks\n",
    "This webpage is called a Jupyter notebook. A notebook is a place to write programs and view their results. In a notebook, each rectangle containing text or code is called a *cell*.\n",
    "\n",
    "### Text Cells\n",
    "\n",
    "Text cells (like this one) can be edited by double-clicking on them. They're written in a simple format called [Markdown](http://daringfireball.net/projects/markdown/syntax) to add formatting and section headings.  You don't need to learn Markdown, but you might want to.\n",
    "\n",
    "After you edit a text cell, click the \"run cell\" button at the top that looks like ▶| to confirm any changes."
   ]
  },
  {
   "cell_type": "markdown",
   "metadata": {},
   "source": [
    "This paragraph is in its own text cell.  Try editing it so that all of the sentences following this one are deleted, then click the \"run cell\" ▶| button.  This sentence, for example, should be deleted.  So should this one."
   ]
  },
  {
   "cell_type": "markdown",
   "metadata": {
    "deletable": false,
    "editable": false,
    "nbgrader": {
     "cell_type": "markdown",
     "checksum": "588bad396e311a4aad434f0461949419",
     "grade": false,
     "grade_id": "cell-68e18206dfb2360b",
     "locked": true,
     "schema_version": 3,
     "solution": false,
     "task": false
    }
   },
   "source": [
    "### Code Cells\n",
    "Other cells contain code in the R language. Running a code cell will execute all of the code it contains.\n",
    "\n",
    "To run the code in a cell, first click on that cell to activate it.  It'll be highlighted with a little green or blue rectangle.  Next, either press Run ▶| or hold down the `shift` key and press `return` or `enter`.\n",
    "\n",
    "Try running the next cell:"
   ]
  },
  {
   "cell_type": "code",
   "execution_count": 1,
   "metadata": {
    "deletable": false,
    "editable": false,
    "nbgrader": {
     "cell_type": "code",
     "checksum": "3da291047b17301ffe59e76ad5e0eb69",
     "grade": false,
     "grade_id": "cell-4a4f05a6a084c30c",
     "locked": true,
     "schema_version": 3,
     "solution": false,
     "task": false
    }
   },
   "outputs": [
    {
     "name": "stdout",
     "output_type": "stream",
     "text": [
      "[1] \"Hello, World!\"\n"
     ]
    }
   ],
   "source": [
    "print(\"Hello, World!\")"
   ]
  },
  {
   "cell_type": "markdown",
   "metadata": {
    "deletable": false,
    "editable": false,
    "nbgrader": {
     "cell_type": "markdown",
     "checksum": "6b863a5c0a3080614a9cc849a2f39507",
     "grade": false,
     "grade_id": "cell-1b280c1d99b5e31e",
     "locked": true,
     "schema_version": 3,
     "solution": false,
     "task": false
    }
   },
   "source": [
    "# 2. Analyze some data\n",
    "\n",
    "Now that you know how to use a Jupyter notebook, we will start to analyze some data. As you do this, we provide feedback via tests so you can check if your work is correct. To do this, you will need to run the cell below to set things up. "
   ]
  },
  {
   "cell_type": "code",
   "execution_count": 2,
   "metadata": {
    "deletable": false,
    "editable": false,
    "nbgrader": {
     "cell_type": "code",
     "checksum": "98cfda22087be698b69482a4e078a135",
     "grade": false,
     "grade_id": "cell-1513dcc402eda6fe",
     "locked": true,
     "schema_version": 3,
     "solution": false,
     "task": false
    }
   },
   "outputs": [],
   "source": [
    "# run this cell to setup the automated feedback \n",
    "source(\"tests_worksheet_01.R\")"
   ]
  },
  {
   "cell_type": "markdown",
   "metadata": {
    "deletable": false,
    "editable": false,
    "nbgrader": {
     "cell_type": "markdown",
     "checksum": "4c810621095403e1546fd5b60e01306f",
     "grade": false,
     "grade_id": "cell-536a6a09cca25f20",
     "locked": true,
     "schema_version": 3,
     "solution": false,
     "task": false
    }
   },
   "source": [
    "### Question 2.1\n",
    "{points: 1} \n",
    "\n",
    "Using the `library` function, load the `readr`, `dplyr` and `ggplot2` libraries in the cell below:"
   ]
  },
  {
   "cell_type": "code",
   "execution_count": 8,
   "metadata": {
    "deletable": false,
    "nbgrader": {
     "cell_type": "code",
     "checksum": "52211eaf19228dee2e98d771a29f870e",
     "grade": false,
     "grade_id": "cell-8c999cfa7b488bc9",
     "locked": false,
     "schema_version": 3,
     "solution": true,
     "task": false
    }
   },
   "outputs": [],
   "source": [
    "# write your code here\n",
    "library(readr)\n",
    "library(dplyr)\n",
    "library(ggplot2)"
   ]
  },
  {
   "cell_type": "markdown",
   "metadata": {
    "deletable": false,
    "editable": false,
    "nbgrader": {
     "cell_type": "markdown",
     "checksum": "6c2cd4408ef1166145718783401e4e76",
     "grade": false,
     "grade_id": "cell-0e286b6235f06dc2",
     "locked": true,
     "schema_version": 3,
     "solution": false,
     "task": false
    }
   },
   "source": [
    "To check whether the code you wrote above was correct, run the cell below. If your code is correct, it will print \"Success\" to tell you that. If your code is not correct, it will give you a hint towards the correct answer."
   ]
  },
  {
   "cell_type": "code",
   "execution_count": 9,
   "metadata": {
    "deletable": false,
    "editable": false,
    "nbgrader": {
     "cell_type": "code",
     "checksum": "5103c6d3396d386a5bf7e14a0cc1729d",
     "grade": true,
     "grade_id": "cell-716f95a0b81eaeb3",
     "locked": true,
     "points": 1,
     "schema_version": 3,
     "solution": false
    }
   },
   "outputs": [
    {
     "name": "stdout",
     "output_type": "stream",
     "text": [
      "\u001b[32mTest passed\u001b[39m 😀\n",
      "\u001b[32mTest passed\u001b[39m 🥇\n",
      "\u001b[32mTest passed\u001b[39m 🌈\n",
      "[1] \"Success!\"\n"
     ]
    }
   ],
   "source": [
    "# run this cell to test your answer to the question above\n",
    "test_2.1()"
   ]
  },
  {
   "cell_type": "markdown",
   "metadata": {},
   "source": [
    "> Note: if you run the above cell and see an error like this:\n",
    ">\n",
    ">```\n",
    ">Error in test_2.1(): could not find function \"test_2.1\"\n",
    ">Traceback:\n",
    ">```\n",
    ">\n",
    ">That means you probably forgot to run the cell above to setup the automated feedback. Try running `source(\"tests_worksheet_01.R\")` and testing your answer again."
   ]
  },
  {
   "cell_type": "markdown",
   "metadata": {},
   "source": [
    "### Is there a relationship between 5 km race time and body mass index in women runners?\n",
    "\n",
    "Now let's us R to answer a research question for which we have some data (described below) - is there a relationship between two quantitative variables: 5 km race time and body mass index (BMI) for women runners in this data set. To answer this exploratory question, we will need to do the following things in R:\n",
    "\n",
    "1. load the data set into R\n",
    "2. subset & transform the data we are interested in visualizing from the loaded dataset\n",
    "3. create a new column to get the unit of time in minutes instead of seconds\n",
    "4. create a plot to visualize this modified data\n",
    "\n",
    "*Note - subsetting the data and converting from seconds to minutes is not absolutely required to answer our question, but it will give us practice manipulating data in R, and make our data tables and figures more readable.*\n"
   ]
  },
  {
   "cell_type": "markdown",
   "metadata": {},
   "source": [
    "> #### About the data set\n",
    "> Researchers, Vickers and Vertosick performed [a study in 2016](https://bmcsportsscimedrehabil.biomedcentral.com/articles/10.1186/s13102-016-0052-y) that aimed to identify what factors had a relationship with race performance of recreational runners so that they could better predict future 5 km, 10 km and marathon race times for individual runners. Such predictions (and knowing what drives these predictions) can help runners by suggesting changes they could make to modifiable factors, such as training, to help them improve race time. Unmodifiable factors that contribute to the prediction, such as age or sex, allow for fair comparisons to be made between different runners.\n",
    ">\n",
    ">Vickers and Vertosick reasoned that their study is important because all previous research done to predict races times has focused on data from elite athletes. This biased data set means that the predictions generated from them do not necessarily do a good job predicting race times for recreational runners (whose data was not in the dataset that was used to create the model that generates the predictions). Additionally, previous research focused on reporting/measuring factors that require special expertise or equipment that are not freely available to recreational runners. This means that recreational runners may not be able to put their characteristics/measurements for these factors in the race time prediction models and so they will not be able to obtain an accurate prediction, or a prediction at all (in the case of some models).\n",
    ">\n",
    ">To make a better model, Vickers and Vertosick performed a large survey. They put their survey on the news website [Slate.com](https://slate.com/) attached to a news story about race time prediction. They were able to obtain 2,497 responses. The survey included questions that allowed them to collect a data set that included: \n",
    ">- age,\n",
    ">- sex,\n",
    ">- body mass index (BMI),\n",
    ">- whether they are an edurance runner or speed demon,\n",
    ">- what type of shoes they wear,\n",
    ">- what type of training they do,\n",
    ">- race time for 2-3 races they completed in the last 6 months,\n",
    ">- self-rated fitness for each race,\n",
    ">- and race difficulty for each race.\n",
    ">\n",
    "\n"
   ]
  },
  {
   "cell_type": "markdown",
   "metadata": {
    "deletable": false,
    "editable": false,
    "nbgrader": {
     "cell_type": "markdown",
     "checksum": "719e19df72db993f281502d86f24028d",
     "grade": false,
     "grade_id": "cell-e36918dd5663c9dc",
     "locked": true,
     "schema_version": 3,
     "solution": false
    }
   },
   "source": [
    "### Question 2.2 - Multiple Choice: \n",
    "{points: 1}\n",
    "\n",
    "What kind of graph will we be creating? Choose the correct answer from the options below. \n",
    "\n",
    "A. Bar Graph \n",
    "\n",
    "B. Pie Chart\n",
    "\n",
    "C. Scatter Plot\n",
    "\n",
    "D. Box Plot \n",
    "\n",
    "*Assign the letter that corresponds to your answer to an object called `answer2.2`. Be sure to surround your answer with quotation marks.* "
   ]
  },
  {
   "cell_type": "code",
   "execution_count": 10,
   "metadata": {
    "deletable": false,
    "nbgrader": {
     "cell_type": "code",
     "checksum": "39fd1627fddb4dac1114a052ab9c98ba",
     "grade": false,
     "grade_id": "cell-7f040d5aa4ed234b",
     "locked": false,
     "schema_version": 3,
     "solution": true
    }
   },
   "outputs": [
    {
     "data": {
      "text/html": [
       "'C'"
      ],
      "text/latex": [
       "'C'"
      ],
      "text/markdown": [
       "'C'"
      ],
      "text/plain": [
       "[1] \"C\""
      ]
     },
     "metadata": {},
     "output_type": "display_data"
    }
   ],
   "source": [
    "answer2.2 <- \"C\"\n",
    "\n",
    "answer2.2"
   ]
  },
  {
   "cell_type": "code",
   "execution_count": 11,
   "metadata": {
    "deletable": false,
    "editable": false,
    "nbgrader": {
     "cell_type": "code",
     "checksum": "239c04c15b654dc793cdc04dffa6bc08",
     "grade": true,
     "grade_id": "cell-3fd5ce0f36d5dac8",
     "locked": true,
     "points": 1,
     "schema_version": 3,
     "solution": false
    }
   },
   "outputs": [
    {
     "name": "stdout",
     "output_type": "stream",
     "text": [
      "\u001b[32mTest passed\u001b[39m 🥇\n",
      "[1] \"Success!\"\n"
     ]
    }
   ],
   "source": [
    "# run this cell to test your answer to the question above\n",
    "test_2.2()"
   ]
  },
  {
   "cell_type": "markdown",
   "metadata": {
    "deletable": false,
    "editable": false,
    "nbgrader": {
     "cell_type": "markdown",
     "checksum": "65d5c9b8d3cc0b9801e651d24d51b6ad",
     "grade": false,
     "grade_id": "cell-fdce32634531f220",
     "locked": true,
     "schema_version": 3,
     "solution": false
    }
   },
   "source": [
    "### Question 2.3 - load the dataset into R\n",
    "{points: 1}\n",
    "\n",
    "The data set we are loading is called `race_times.csv` and it contains a subset of the data from the study described above. The file is in the same directory/folder as the file for this notebook. It is a comma separated file (meaning the columns are separated by the `,` character).\n",
    "\n",
    "Fill in the missing code below (where `...` is) to load this data into R.  To do this use the `read_csv` function. Doing this will save the data from `race_times.csv` to an object called `race_times`. \n",
    "\n",
    "> Hint 1: You will also need to remove the comment (`#`) to execute the line of code provided.\n",
    ">\n",
    "> Hint 2: If you need additional help try `?read_csv` and/or ask your neighbours or the Instructional team for help."
   ]
  },
  {
   "cell_type": "code",
   "execution_count": 12,
   "metadata": {
    "deletable": false,
    "nbgrader": {
     "cell_type": "code",
     "checksum": "df36f31bbd9e2b4fe32ff18622d07f13",
     "grade": false,
     "grade_id": "cell-7375b9bbe05dcbdf",
     "locked": false,
     "schema_version": 3,
     "solution": true
    }
   },
   "outputs": [
    {
     "name": "stderr",
     "output_type": "stream",
     "text": [
      "\n",
      "\u001b[36m──\u001b[39m \u001b[1m\u001b[1mColumn specification\u001b[1m\u001b[22m \u001b[36m────────────────────────────────────────────────────────\u001b[39m\n",
      "cols(\n",
      "  age = \u001b[32mcol_double()\u001b[39m,\n",
      "  bmi = \u001b[32mcol_double()\u001b[39m,\n",
      "  km5_time_seconds = \u001b[32mcol_double()\u001b[39m,\n",
      "  km10_time_seconds = \u001b[32mcol_double()\u001b[39m,\n",
      "  sex = \u001b[31mcol_character()\u001b[39m\n",
      ")\n",
      "\n",
      "\n"
     ]
    },
    {
     "data": {
      "text/html": [
       "<table class=\"dataframe\">\n",
       "<caption>A tibble: 6 × 5</caption>\n",
       "<thead>\n",
       "\t<tr><th scope=col>age</th><th scope=col>bmi</th><th scope=col>km5_time_seconds</th><th scope=col>km10_time_seconds</th><th scope=col>sex</th></tr>\n",
       "\t<tr><th scope=col>&lt;dbl&gt;</th><th scope=col>&lt;dbl&gt;</th><th scope=col>&lt;dbl&gt;</th><th scope=col>&lt;dbl&gt;</th><th scope=col>&lt;chr&gt;</th></tr>\n",
       "</thead>\n",
       "<tbody>\n",
       "\t<tr><td>25</td><td>21.62212</td><td>  NA</td><td>2798</td><td>female</td></tr>\n",
       "\t<tr><td>41</td><td>23.90597</td><td>1210</td><td>  NA</td><td>male  </td></tr>\n",
       "\t<tr><td>25</td><td>21.64073</td><td> 994</td><td>  NA</td><td>male  </td></tr>\n",
       "\t<tr><td>35</td><td>23.59232</td><td>1075</td><td>2135</td><td>male  </td></tr>\n",
       "\t<tr><td>34</td><td>22.70640</td><td>1186</td><td>  NA</td><td>male  </td></tr>\n",
       "\t<tr><td>45</td><td>42.08754</td><td>3240</td><td>  NA</td><td>female</td></tr>\n",
       "</tbody>\n",
       "</table>\n"
      ],
      "text/latex": [
       "A tibble: 6 × 5\n",
       "\\begin{tabular}{lllll}\n",
       " age & bmi & km5\\_time\\_seconds & km10\\_time\\_seconds & sex\\\\\n",
       " <dbl> & <dbl> & <dbl> & <dbl> & <chr>\\\\\n",
       "\\hline\n",
       "\t 25 & 21.62212 &   NA & 2798 & female\\\\\n",
       "\t 41 & 23.90597 & 1210 &   NA & male  \\\\\n",
       "\t 25 & 21.64073 &  994 &   NA & male  \\\\\n",
       "\t 35 & 23.59232 & 1075 & 2135 & male  \\\\\n",
       "\t 34 & 22.70640 & 1186 &   NA & male  \\\\\n",
       "\t 45 & 42.08754 & 3240 &   NA & female\\\\\n",
       "\\end{tabular}\n"
      ],
      "text/markdown": [
       "\n",
       "A tibble: 6 × 5\n",
       "\n",
       "| age &lt;dbl&gt; | bmi &lt;dbl&gt; | km5_time_seconds &lt;dbl&gt; | km10_time_seconds &lt;dbl&gt; | sex &lt;chr&gt; |\n",
       "|---|---|---|---|---|\n",
       "| 25 | 21.62212 |   NA | 2798 | female |\n",
       "| 41 | 23.90597 | 1210 |   NA | male   |\n",
       "| 25 | 21.64073 |  994 |   NA | male   |\n",
       "| 35 | 23.59232 | 1075 | 2135 | male   |\n",
       "| 34 | 22.70640 | 1186 |   NA | male   |\n",
       "| 45 | 42.08754 | 3240 |   NA | female |\n",
       "\n"
      ],
      "text/plain": [
       "  age bmi      km5_time_seconds km10_time_seconds sex   \n",
       "1 25  21.62212   NA             2798              female\n",
       "2 41  23.90597 1210               NA              male  \n",
       "3 25  21.64073  994               NA              male  \n",
       "4 35  23.59232 1075             2135              male  \n",
       "5 34  22.70640 1186               NA              male  \n",
       "6 45  42.08754 3240               NA              female"
      ]
     },
     "metadata": {},
     "output_type": "display_data"
    }
   ],
   "source": [
    "race_times <- read_csv(\"race_times.csv\")\n",
    "\n",
    "head(race_times)"
   ]
  },
  {
   "cell_type": "code",
   "execution_count": 13,
   "metadata": {
    "deletable": false,
    "editable": false,
    "nbgrader": {
     "cell_type": "code",
     "checksum": "42f33f067cdc3e3df9716402652ccd73",
     "grade": true,
     "grade_id": "cell-cc0d111865dbbfd7",
     "locked": true,
     "points": 1,
     "schema_version": 3,
     "solution": false
    }
   },
   "outputs": [
    {
     "name": "stdout",
     "output_type": "stream",
     "text": [
      "\u001b[32mTest passed\u001b[39m 🌈\n",
      "\u001b[32mTest passed\u001b[39m 🎉\n",
      "\u001b[32mTest passed\u001b[39m 🎉\n",
      "[1] \"Success!\"\n"
     ]
    }
   ],
   "source": [
    "# run this cell to test your answer to the question above\n",
    "test_2.3()"
   ]
  },
  {
   "cell_type": "markdown",
   "metadata": {},
   "source": [
    "### Question 2.4 - `filter` to obtain the data we are interested in \n",
    "{points: 1}\n",
    "\n",
    "Fill in the missing code below (where `...` is) to subset the data we are interested in visualizing (women runners). To do this you will want to `filter` for only the rows where the column `sex` has the value `'female'`.\n",
    "\n",
    "> Hint 1: You will also need to remove the comment (`#`) to execute the line of code provided."
   ]
  },
  {
   "cell_type": "code",
   "execution_count": 15,
   "metadata": {
    "deletable": false,
    "nbgrader": {
     "cell_type": "code",
     "checksum": "daf8ac9d2508942136fa3b8cfd021f10",
     "grade": false,
     "grade_id": "cell-e7beff787df8a914",
     "locked": false,
     "schema_version": 3,
     "solution": true
    }
   },
   "outputs": [
    {
     "data": {
      "text/html": [
       "<table class=\"dataframe\">\n",
       "<caption>A tibble: 6 × 5</caption>\n",
       "<thead>\n",
       "\t<tr><th scope=col>age</th><th scope=col>bmi</th><th scope=col>km5_time_seconds</th><th scope=col>km10_time_seconds</th><th scope=col>sex</th></tr>\n",
       "\t<tr><th scope=col>&lt;dbl&gt;</th><th scope=col>&lt;dbl&gt;</th><th scope=col>&lt;dbl&gt;</th><th scope=col>&lt;dbl&gt;</th><th scope=col>&lt;chr&gt;</th></tr>\n",
       "</thead>\n",
       "<tbody>\n",
       "\t<tr><td>25</td><td>21.62212</td><td>  NA</td><td>2798</td><td>female</td></tr>\n",
       "\t<tr><td>45</td><td>42.08754</td><td>3240</td><td>  NA</td><td>female</td></tr>\n",
       "\t<tr><td>36</td><td>25.40862</td><td>2115</td><td>4210</td><td>female</td></tr>\n",
       "\t<tr><td>23</td><td>20.86986</td><td>1690</td><td>  NA</td><td>female</td></tr>\n",
       "\t<tr><td>34</td><td>23.58257</td><td>1603</td><td>  NA</td><td>female</td></tr>\n",
       "\t<tr><td>44</td><td>20.03506</td><td>1457</td><td>  NA</td><td>female</td></tr>\n",
       "</tbody>\n",
       "</table>\n"
      ],
      "text/latex": [
       "A tibble: 6 × 5\n",
       "\\begin{tabular}{lllll}\n",
       " age & bmi & km5\\_time\\_seconds & km10\\_time\\_seconds & sex\\\\\n",
       " <dbl> & <dbl> & <dbl> & <dbl> & <chr>\\\\\n",
       "\\hline\n",
       "\t 25 & 21.62212 &   NA & 2798 & female\\\\\n",
       "\t 45 & 42.08754 & 3240 &   NA & female\\\\\n",
       "\t 36 & 25.40862 & 2115 & 4210 & female\\\\\n",
       "\t 23 & 20.86986 & 1690 &   NA & female\\\\\n",
       "\t 34 & 23.58257 & 1603 &   NA & female\\\\\n",
       "\t 44 & 20.03506 & 1457 &   NA & female\\\\\n",
       "\\end{tabular}\n"
      ],
      "text/markdown": [
       "\n",
       "A tibble: 6 × 5\n",
       "\n",
       "| age &lt;dbl&gt; | bmi &lt;dbl&gt; | km5_time_seconds &lt;dbl&gt; | km10_time_seconds &lt;dbl&gt; | sex &lt;chr&gt; |\n",
       "|---|---|---|---|---|\n",
       "| 25 | 21.62212 |   NA | 2798 | female |\n",
       "| 45 | 42.08754 | 3240 |   NA | female |\n",
       "| 36 | 25.40862 | 2115 | 4210 | female |\n",
       "| 23 | 20.86986 | 1690 |   NA | female |\n",
       "| 34 | 23.58257 | 1603 |   NA | female |\n",
       "| 44 | 20.03506 | 1457 |   NA | female |\n",
       "\n"
      ],
      "text/plain": [
       "  age bmi      km5_time_seconds km10_time_seconds sex   \n",
       "1 25  21.62212   NA             2798              female\n",
       "2 45  42.08754 3240               NA              female\n",
       "3 36  25.40862 2115             4210              female\n",
       "4 23  20.86986 1690               NA              female\n",
       "5 34  23.58257 1603               NA              female\n",
       "6 44  20.03506 1457               NA              female"
      ]
     },
     "metadata": {},
     "output_type": "display_data"
    }
   ],
   "source": [
    "race_times_women <- filter(race_times, sex == 'female')\n",
    "\n",
    "head(race_times_women)"
   ]
  },
  {
   "cell_type": "code",
   "execution_count": null,
   "metadata": {
    "deletable": false,
    "editable": false,
    "nbgrader": {
     "cell_type": "code",
     "checksum": "9fb9e27d41ea427c167b4be064bf78a9",
     "grade": true,
     "grade_id": "cell-d291ec9d90db8b58",
     "locked": true,
     "points": 1,
     "schema_version": 3,
     "solution": false
    }
   },
   "outputs": [],
   "source": [
    "# run this cell to test your answer to the question above\n",
    "test_2.4()"
   ]
  },
  {
   "cell_type": "markdown",
   "metadata": {},
   "source": [
    "### Question 2.5 - create a plot to visualize this modified data\n",
    "{points: 1}"
   ]
  },
  {
   "cell_type": "code",
   "execution_count": 16,
   "metadata": {},
   "outputs": [],
   "source": [
    "# run this cell to set a custom width and height for the plot you will create below\n",
    "library(repr)\n",
    "options(repr.plot.width = 7, repr.plot.height = 5)"
   ]
  },
  {
   "cell_type": "markdown",
   "metadata": {},
   "source": [
    "Rearrange the lines of code given below to create a scatterplot with the `bmi` on the x axis and `km5_time_minutes` on the y axis to create a visualization that we can use to start exploring whether there is a relationship between 5 km race time and body mass index in women runners. \n",
    "\n",
    "> Hint 1: You will also need to remove the comments (`#`) to execute the lines of code provided."
   ]
  },
  {
   "cell_type": "code",
   "execution_count": 17,
   "metadata": {
    "deletable": false,
    "nbgrader": {
     "cell_type": "code",
     "checksum": "64ed3ef777389aed5ae55fc518989c7f",
     "grade": false,
     "grade_id": "cell-99d22a23ee454f4a",
     "locked": false,
     "schema_version": 3,
     "solution": true,
     "task": false
    }
   },
   "outputs": [
    {
     "name": "stderr",
     "output_type": "stream",
     "text": [
      "Warning message:\n",
      "“Removed 160 rows containing missing values (geom_point).”\n"
     ]
    },
    {
     "data": {
      "image/png": "[encoded data removed]",
      "text/plain": [
       "plot without title"
      ]
     },
     "metadata": {
      "image/png": {
       "height": 300,
       "width": 420
      }
     },
     "output_type": "display_data"
    }
   ],
   "source": [
    "race_times_plot <- ggplot(data = race_times_women, aes(x = bmi, y = km5_time_seconds)) + \n",
    "    geom_point(alpha = 0.25) +\n",
    "    xlab(\"Body mass index (BMI)\") +\n",
    "    ylab(\"5 km race time (minutes)\")\n",
    "\n",
    "race_times_plot"
   ]
  },
  {
   "cell_type": "code",
   "execution_count": 18,
   "metadata": {
    "deletable": false,
    "editable": false,
    "nbgrader": {
     "cell_type": "code",
     "checksum": "efa360453e85ab9d461536c332a59d1c",
     "grade": true,
     "grade_id": "cell-48726b9be0d978fb",
     "locked": true,
     "points": 1,
     "schema_version": 3,
     "solution": false,
     "task": false
    }
   },
   "outputs": [
    {
     "name": "stdout",
     "output_type": "stream",
     "text": [
      "\u001b[32mTest passed\u001b[39m 😸\n",
      "\u001b[32mTest passed\u001b[39m 🥇\n",
      "\u001b[32mTest passed\u001b[39m 🎊\n",
      "\u001b[32mTest passed\u001b[39m 🥇\n",
      "\u001b[32mTest passed\u001b[39m 😸\n",
      "[1] \"Success!\"\n"
     ]
    }
   ],
   "source": [
    "# run this cell to test your answer to the question above\n",
    "test_2.5()"
   ]
  },
  {
   "cell_type": "markdown",
   "metadata": {},
   "source": [
    "### Question 2.6 - Multiple Choice\n",
    "{points: 1}\n",
    "\n",
    "Looking at the graph above, choose a statement above that most reflects what we see?\n",
    "\n",
    "A. There appears to be no trelationship between 5 km run time and body mass index for women; as the value for for body mass index increases we see neither an increase or decrease in the time it takes to run 10 km.\n",
    "\n",
    "B. There may be a postitive relationship between 5 km run time and body mass index for women; as the value for for body mass index increases, so does the time it takes to run 5 km.\n",
    "\n",
    "C. There may be a negative relationship between 5 km run time and body mass index for women; as the value for for body mass index increases, the time it takes to run 5 km decreases.\n",
    "\n",
    "*Assign the letter that corresponds to your answer to an object called `answer2.6`. Be sure to surround your answer with quotation marks.* "
   ]
  },
  {
   "cell_type": "code",
   "execution_count": 19,
   "metadata": {
    "deletable": false,
    "nbgrader": {
     "cell_type": "code",
     "checksum": "54d55e5bb00446239d5ab1b8a16d4462",
     "grade": false,
     "grade_id": "cell-3294e67b2ac425f7",
     "locked": false,
     "schema_version": 3,
     "solution": true
    }
   },
   "outputs": [
    {
     "data": {
      "text/html": [
       "'B'"
      ],
      "text/latex": [
       "'B'"
      ],
      "text/markdown": [
       "'B'"
      ],
      "text/plain": [
       "[1] \"B\""
      ]
     },
     "metadata": {},
     "output_type": "display_data"
    }
   ],
   "source": [
    "answer2.6 <- \"B\"\n",
    "\n",
    "answer2.6"
   ]
  },
  {
   "cell_type": "code",
   "execution_count": 20,
   "metadata": {
    "deletable": false,
    "editable": false,
    "nbgrader": {
     "cell_type": "code",
     "checksum": "ee2241af2b346910eb1e209dc9ebbc1f",
     "grade": true,
     "grade_id": "cell-f79260c10ed592af",
     "locked": true,
     "points": 1,
     "schema_version": 3,
     "solution": false
    }
   },
   "outputs": [
    {
     "name": "stdout",
     "output_type": "stream",
     "text": [
      "\u001b[32mTest passed\u001b[39m 🎉\n",
      "[1] \"Success!\"\n"
     ]
    }
   ],
   "source": [
    "# run this cell to test your answer to the question above\n",
    "test_2.6()"
   ]
  },
  {
   "cell_type": "markdown",
   "metadata": {
    "deletable": false,
    "editable": false,
    "nbgrader": {
     "cell_type": "markdown",
     "checksum": "3f12850a6705adf5ffaacaf8bff0e49c",
     "grade": false,
     "grade_id": "cell-8784da7b74b76fd6",
     "locked": true,
     "schema_version": 3,
     "solution": false,
     "task": false
    }
   },
   "source": [
    "### Question 2.6 - Free form answer\n",
    "{points: 2}\n",
    "\n",
    "Describe one benefit of using a programming language to perform data analysis."
   ]
  },
  {
   "cell_type": "markdown",
   "metadata": {
    "deletable": false,
    "nbgrader": {
     "cell_type": "markdown",
     "checksum": "edd534d93e91fd34517239375e2732b5",
     "grade": true,
     "grade_id": "cell-f1c7fa7ba49dc8a9",
     "locked": false,
     "points": 2,
     "schema_version": 3,
     "solution": true,
     "task": false
    }
   },
   "source": [
    "Reproducibility!!!"
   ]
  },
  {
   "cell_type": "markdown",
   "metadata": {
    "deletable": false,
    "editable": false,
    "nbgrader": {
     "cell_type": "markdown",
     "checksum": "a6dc1f7161bdadbaf5ec070b839fa0da",
     "grade": false,
     "grade_id": "cell-c2e761c4721e274f",
     "locked": true,
     "schema_version": 3,
     "solution": false
    }
   },
   "source": [
    "## Attributions\n",
    "- UBC [DSCI 100 Public Material](https://github.com/UBC-DSCI/dsci-100-assets)\n",
    "- UC Berkley [Data 8 Public Materials](https://github.com/data-8/data8assets)"
   ]
  }
 ],
 "metadata": {
  "kernelspec": {
   "display_name": "R",
   "language": "R",
   "name": "ir"
  },
  "language_info": {
   "codemirror_mode": "r",
   "file_extension": ".r",
   "mimetype": "text/x-r-source",
   "name": "R",
   "pygments_lexer": "r",
   "version": "4.1.0"
  }
 },
 "nbformat": 4,
 "nbformat_minor": 2
}
